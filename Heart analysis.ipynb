{
 "cells": [
  {
   "cell_type": "code",
   "execution_count": 14,
   "metadata": {},
   "outputs": [],
   "source": [
    "library(tidyverse)\n",
    "library(repr)\n",
    "library(tidymodels)\n",
    "options(repr.matrix.max.rows = 6)\n",
    "set.seed(2003)"
   ]
  },
  {
   "cell_type": "markdown",
   "metadata": {},
   "source": [
    "A myocardial infarction, better known as a heart attack, occurs when blood flow to the heart is blocked. This is often due to buildup of fat, cholesterol and other substances which form a plaque in the coronary arteries that feed blood to the heart. These cholesterol and other substance deposits can form a clot which restricts blood flow, resulting in the damage or disruption of the heart muscle. A myocardial infarction can be fatal (Heart attack - Symptoms and causes, 2020). Common symptoms include: Pressure, tightness, pain, a squeezing or arching sensation in chest or arms; shortness of breath; cold sweat; heartburn; fatigue; lightheadedness or sudden dizziness. Among the estimated 17.9 million people who die from Cardiovascular Disease each year, according to the World Health Organization (WHO) statistics, heart attack and stroke account for 85% of those deaths. "
   ]
  },
  {
   "cell_type": "code",
   "execution_count": 15,
   "metadata": {},
   "outputs": [
    {
     "name": "stderr",
     "output_type": "stream",
     "text": [
      "Parsed with column specification:\n",
      "cols(\n",
      "  age = \u001b[32mcol_double()\u001b[39m,\n",
      "  sex = \u001b[32mcol_double()\u001b[39m,\n",
      "  cp = \u001b[32mcol_double()\u001b[39m,\n",
      "  trtbps = \u001b[32mcol_double()\u001b[39m,\n",
      "  chol = \u001b[32mcol_double()\u001b[39m,\n",
      "  fbs = \u001b[32mcol_double()\u001b[39m,\n",
      "  restecg = \u001b[32mcol_double()\u001b[39m,\n",
      "  thalachh = \u001b[32mcol_double()\u001b[39m,\n",
      "  exng = \u001b[32mcol_double()\u001b[39m,\n",
      "  oldpeak = \u001b[32mcol_double()\u001b[39m,\n",
      "  slp = \u001b[32mcol_double()\u001b[39m,\n",
      "  caa = \u001b[32mcol_double()\u001b[39m,\n",
      "  thall = \u001b[32mcol_double()\u001b[39m,\n",
      "  output = \u001b[32mcol_double()\u001b[39m\n",
      ")\n",
      "\n"
     ]
    },
    {
     "data": {
      "text/html": [
       "<table>\n",
       "<caption>A tibble: 303 × 4</caption>\n",
       "<thead>\n",
       "\t<tr><th scope=col>age</th><th scope=col>sex</th><th scope=col>chol</th><th scope=col>cp</th></tr>\n",
       "\t<tr><th scope=col>&lt;dbl&gt;</th><th scope=col>&lt;dbl&gt;</th><th scope=col>&lt;dbl&gt;</th><th scope=col>&lt;fct&gt;</th></tr>\n",
       "</thead>\n",
       "<tbody>\n",
       "\t<tr><td>63</td><td>1</td><td>233</td><td>3</td></tr>\n",
       "\t<tr><td>37</td><td>1</td><td>250</td><td>2</td></tr>\n",
       "\t<tr><td>41</td><td>0</td><td>204</td><td>1</td></tr>\n",
       "\t<tr><td>⋮</td><td>⋮</td><td>⋮</td><td>⋮</td></tr>\n",
       "\t<tr><td>68</td><td>1</td><td>193</td><td>0</td></tr>\n",
       "\t<tr><td>57</td><td>1</td><td>131</td><td>0</td></tr>\n",
       "\t<tr><td>57</td><td>0</td><td>236</td><td>1</td></tr>\n",
       "</tbody>\n",
       "</table>\n"
      ],
      "text/latex": [
       "A tibble: 303 × 4\n",
       "\\begin{tabular}{llll}\n",
       " age & sex & chol & cp\\\\\n",
       " <dbl> & <dbl> & <dbl> & <fct>\\\\\n",
       "\\hline\n",
       "\t 63 & 1 & 233 & 3\\\\\n",
       "\t 37 & 1 & 250 & 2\\\\\n",
       "\t 41 & 0 & 204 & 1\\\\\n",
       "\t ⋮ & ⋮ & ⋮ & ⋮\\\\\n",
       "\t 68 & 1 & 193 & 0\\\\\n",
       "\t 57 & 1 & 131 & 0\\\\\n",
       "\t 57 & 0 & 236 & 1\\\\\n",
       "\\end{tabular}\n"
      ],
      "text/markdown": [
       "\n",
       "A tibble: 303 × 4\n",
       "\n",
       "| age &lt;dbl&gt; | sex &lt;dbl&gt; | chol &lt;dbl&gt; | cp &lt;fct&gt; |\n",
       "|---|---|---|---|\n",
       "| 63 | 1 | 233 | 3 |\n",
       "| 37 | 1 | 250 | 2 |\n",
       "| 41 | 0 | 204 | 1 |\n",
       "| ⋮ | ⋮ | ⋮ | ⋮ |\n",
       "| 68 | 1 | 193 | 0 |\n",
       "| 57 | 1 | 131 | 0 |\n",
       "| 57 | 0 | 236 | 1 |\n",
       "\n"
      ],
      "text/plain": [
       "    age sex chol cp\n",
       "1   63  1   233  3 \n",
       "2   37  1   250  2 \n",
       "3   41  0   204  1 \n",
       "⋮   ⋮   ⋮   ⋮    ⋮ \n",
       "301 68  1   193  0 \n",
       "302 57  1   131  0 \n",
       "303 57  0   236  1 "
      ]
     },
     "metadata": {},
     "output_type": "display_data"
    }
   ],
   "source": [
    "url <- \"https://raw.githubusercontent.com/riddhibattu/DSCI_heart_project/main/heart.csv\"\n",
    "heart <- read_csv(url) %>%\n",
    "mutate(cp = as_factor(cp)) %>%\n",
    "select(age, sex, chol, cp)\n",
    "heart"
   ]
  },
  {
   "cell_type": "code",
   "execution_count": 20,
   "metadata": {},
   "outputs": [
    {
     "ename": "ERROR",
     "evalue": "Error in options(., repr.plot.width = 12, repr.plot.height = 12): invalid argument\n",
     "output_type": "error",
     "traceback": [
      "Error in options(., repr.plot.width = 12, repr.plot.height = 12): invalid argument\nTraceback:\n",
      "1. heart %>% options(repr.plot.width = 12, repr.plot.height = 12)",
      "2. withVisible(eval(quote(`_fseq`(`_lhs`)), env, env))",
      "3. eval(quote(`_fseq`(`_lhs`)), env, env)",
      "4. eval(quote(`_fseq`(`_lhs`)), env, env)",
      "5. `_fseq`(`_lhs`)",
      "6. freduce(value, `_function_list`)",
      "7. withVisible(function_list[[k]](value))",
      "8. function_list[[k]](value)",
      "9. options(., repr.plot.width = 12, repr.plot.height = 12)"
     ]
    }
   ],
   "source": [
    "heart_plot <- heart %>%\n",
    "options(repr.plot.width= 12, repr.plot.height=12)\n",
    "heart_plot <- heart %>%\n",
    "  ggplot(aes(x = age, y = chol)) +\n",
    "  geom_point(aes(color = cp), alpha = 0.5) +\n",
    "  labs(x = \"Age\", y = \"Cholesterol Level of Patients\", color = \"Chest Pain Type\") +\n",
    "  scale_color_manual(labels = c(\"Asymptomatic No Pain\", \"Typical Angina\", \"Atypical Angina\", \"Non-Anginal Pain\"),\n",
    "                      values = c(\"orange2\", \"steelblue2\", \"red\", \"blue\")) + \n",
    "  theme(text = element_text(size = 15)) +\n",
    "  ggtitle(\"Age and Cholesterol Level of Patients\") +\n",
    "  theme(text = element_text(size = 18))\n",
    "\n",
    "#geom_point(aes(color = cp)) +\n",
    "#labs(x = \"Age\",\n",
    "    #y = \"Cholesterol Level of Patients\",\n",
    "    #color = \"Chest Pain Type\") +\n",
    "    #scale_color_manual(labels = c(\"Asymptomatic No Pain\", \"Typical Angina\", \"Atypical Angina\", \"Non-Anginal Pain\"),\n",
    "                      #values = c(\"orange2\", \"steelblue2\", \"red\", \"blue\"))+ \n",
    "  #theme(text = element_text(size = 15))\n",
    "                               \n",
    "    \n",
    "heart_plot\n"
   ]
  },
  {
   "cell_type": "code",
   "execution_count": 17,
   "metadata": {},
   "outputs": [],
   "source": [
    "heart_split <- initial_split(heart, prop = 3/4, strata = cp)\n",
    "heart_training <- training(heart_split)\n",
    "heart_testing <- testing(heart_split)\n",
    "\n",
    "#knn_spec <- nearest_neighbor(weight_func = \"rectangular\", neighbors = 7) %>%\n",
    "#set_engine(\"kknn\") %>%\n",
    "#set_mode(\"classification\")\n",
    "\n",
    "#heart_recipe <- recipe(cp ~ chol + age, data = heart_training) %>%\n",
    "#step_scale(all_predictors()) %>%\n",
    "#step_center(all_predictors())\n",
    "\n",
    "#heart_fit <- workflow() %>%\n",
    "#add_model(knn_spec) %>%\n",
    "#add_recipe(heart_recipe) %>%\n",
    "#fit(heart_training)\n",
    "\n",
    "#heart_predict <- predict(heart_fit, heart_testing) %>%\n",
    "#bind_cols(heart_testing) %>%\n",
    "#filter(.pred_class == cp)\n",
    "\n",
    "#heart_predict"
   ]
  },
  {
   "cell_type": "code",
   "execution_count": 18,
   "metadata": {},
   "outputs": [
    {
     "name": "stderr",
     "output_type": "stream",
     "text": [
      "\u001b[33m!\u001b[39m \u001b[33mFold09: internal: No observations were detected in `truth` for level(s): '3'\n",
      "Com...\u001b[39m\n",
      "\n"
     ]
    },
    {
     "data": {
      "text/html": [
       "<table>\n",
       "<caption>A tibble: 38 × 7</caption>\n",
       "<thead>\n",
       "\t<tr><th scope=col>neighbors</th><th scope=col>.metric</th><th scope=col>.estimator</th><th scope=col>mean</th><th scope=col>n</th><th scope=col>std_err</th><th scope=col>.config</th></tr>\n",
       "\t<tr><th scope=col>&lt;dbl&gt;</th><th scope=col>&lt;chr&gt;</th><th scope=col>&lt;chr&gt;</th><th scope=col>&lt;dbl&gt;</th><th scope=col>&lt;int&gt;</th><th scope=col>&lt;dbl&gt;</th><th scope=col>&lt;chr&gt;</th></tr>\n",
       "</thead>\n",
       "<tbody>\n",
       "\t<tr><td>1</td><td>accuracy</td><td>multiclass</td><td>0.3840797</td><td>10</td><td>0.04483102</td><td>Model01</td></tr>\n",
       "\t<tr><td>3</td><td>accuracy</td><td>multiclass</td><td>0.3965652</td><td>10</td><td>0.04668843</td><td>Model02</td></tr>\n",
       "\t<tr><td>5</td><td>accuracy</td><td>multiclass</td><td>0.3492022</td><td>10</td><td>0.04342025</td><td>Model03</td></tr>\n",
       "\t<tr><td>⋮</td><td>⋮</td><td>⋮</td><td>⋮</td><td>⋮</td><td>⋮</td><td>⋮</td></tr>\n",
       "\t<tr><td>71</td><td>accuracy</td><td>multiclass</td><td>0.4908215</td><td>10</td><td>0.02866905</td><td>Model36</td></tr>\n",
       "\t<tr><td>73</td><td>accuracy</td><td>multiclass</td><td>0.4771851</td><td>10</td><td>0.02566428</td><td>Model37</td></tr>\n",
       "\t<tr><td>75</td><td>accuracy</td><td>multiclass</td><td>0.4771851</td><td>10</td><td>0.02566428</td><td>Model38</td></tr>\n",
       "</tbody>\n",
       "</table>\n"
      ],
      "text/latex": [
       "A tibble: 38 × 7\n",
       "\\begin{tabular}{lllllll}\n",
       " neighbors & .metric & .estimator & mean & n & std\\_err & .config\\\\\n",
       " <dbl> & <chr> & <chr> & <dbl> & <int> & <dbl> & <chr>\\\\\n",
       "\\hline\n",
       "\t 1 & accuracy & multiclass & 0.3840797 & 10 & 0.04483102 & Model01\\\\\n",
       "\t 3 & accuracy & multiclass & 0.3965652 & 10 & 0.04668843 & Model02\\\\\n",
       "\t 5 & accuracy & multiclass & 0.3492022 & 10 & 0.04342025 & Model03\\\\\n",
       "\t ⋮ & ⋮ & ⋮ & ⋮ & ⋮ & ⋮ & ⋮\\\\\n",
       "\t 71 & accuracy & multiclass & 0.4908215 & 10 & 0.02866905 & Model36\\\\\n",
       "\t 73 & accuracy & multiclass & 0.4771851 & 10 & 0.02566428 & Model37\\\\\n",
       "\t 75 & accuracy & multiclass & 0.4771851 & 10 & 0.02566428 & Model38\\\\\n",
       "\\end{tabular}\n"
      ],
      "text/markdown": [
       "\n",
       "A tibble: 38 × 7\n",
       "\n",
       "| neighbors &lt;dbl&gt; | .metric &lt;chr&gt; | .estimator &lt;chr&gt; | mean &lt;dbl&gt; | n &lt;int&gt; | std_err &lt;dbl&gt; | .config &lt;chr&gt; |\n",
       "|---|---|---|---|---|---|---|\n",
       "| 1 | accuracy | multiclass | 0.3840797 | 10 | 0.04483102 | Model01 |\n",
       "| 3 | accuracy | multiclass | 0.3965652 | 10 | 0.04668843 | Model02 |\n",
       "| 5 | accuracy | multiclass | 0.3492022 | 10 | 0.04342025 | Model03 |\n",
       "| ⋮ | ⋮ | ⋮ | ⋮ | ⋮ | ⋮ | ⋮ |\n",
       "| 71 | accuracy | multiclass | 0.4908215 | 10 | 0.02866905 | Model36 |\n",
       "| 73 | accuracy | multiclass | 0.4771851 | 10 | 0.02566428 | Model37 |\n",
       "| 75 | accuracy | multiclass | 0.4771851 | 10 | 0.02566428 | Model38 |\n",
       "\n"
      ],
      "text/plain": [
       "   neighbors .metric  .estimator mean      n  std_err    .config\n",
       "1  1         accuracy multiclass 0.3840797 10 0.04483102 Model01\n",
       "2  3         accuracy multiclass 0.3965652 10 0.04668843 Model02\n",
       "3  5         accuracy multiclass 0.3492022 10 0.04342025 Model03\n",
       "⋮  ⋮         ⋮        ⋮          ⋮         ⋮  ⋮          ⋮      \n",
       "36 71        accuracy multiclass 0.4908215 10 0.02866905 Model36\n",
       "37 73        accuracy multiclass 0.4771851 10 0.02566428 Model37\n",
       "38 75        accuracy multiclass 0.4771851 10 0.02566428 Model38"
      ]
     },
     "metadata": {},
     "output_type": "display_data"
    },
    {
     "data": {
      "image/png": "[encoded data removed]",
      "text/plain": [
       "plot without title"
      ]
     },
     "metadata": {
      "image/png": {
       "height": 420,
       "width": 420
      }
     },
     "output_type": "display_data"
    }
   ],
   "source": [
    "knn_spec <- nearest_neighbor(weight_func = \"rectangular\", neighbors = tune()) %>%\n",
    "set_engine(\"kknn\") %>%\n",
    "set_mode(\"classification\")\n",
    "\n",
    "heart_recipe <- recipe(cp ~ chol + age, data = heart_training) %>%\n",
    "step_scale(all_predictors()) %>%\n",
    "step_center(all_predictors())\n",
    "\n",
    "heart_train_vfold <- vfold_cv(heart_training, v = 10, strata = cp)\n",
    "\n",
    "k_vals <- tibble(neighbors = seq(from = 1, to = 75, by = 2))\n",
    "\n",
    "heart_cv_result <- workflow() %>%\n",
    "add_model(knn_spec) %>%\n",
    "add_recipe(heart_recipe) %>%\n",
    "tune_grid(resamples = heart_train_vfold, grid = k_vals) %>%\n",
    "collect_metrics()\n",
    "\n",
    "accuracy <- heart_cv_result %>%\n",
    "filter(.metric == \"accuracy\")\n",
    "\n",
    "accuracy\n",
    "\n",
    "k_values_plot <- ggplot(accuracy, aes(x = neighbors, y = mean)) + \n",
    "geom_point() +\n",
    "geom_line() +\n",
    "labs(x = \"Neighbors\", y = \"Accuracy Estimate\") +\n",
    "theme(text = element_text(size = 12))\n",
    "k_values_plot"
   ]
  },
  {
   "cell_type": "code",
   "execution_count": 19,
   "metadata": {},
   "outputs": [
    {
     "data": {
      "text/html": [
       "<table>\n",
       "<caption>A tibble: 2 × 3</caption>\n",
       "<thead>\n",
       "\t<tr><th scope=col>.metric</th><th scope=col>.estimator</th><th scope=col>.estimate</th></tr>\n",
       "\t<tr><th scope=col>&lt;chr&gt;</th><th scope=col>&lt;chr&gt;</th><th scope=col>&lt;dbl&gt;</th></tr>\n",
       "</thead>\n",
       "<tbody>\n",
       "\t<tr><td>accuracy</td><td>multiclass</td><td>0.48648649</td></tr>\n",
       "\t<tr><td>kap     </td><td>multiclass</td><td>0.07621551</td></tr>\n",
       "</tbody>\n",
       "</table>\n"
      ],
      "text/latex": [
       "A tibble: 2 × 3\n",
       "\\begin{tabular}{lll}\n",
       " .metric & .estimator & .estimate\\\\\n",
       " <chr> & <chr> & <dbl>\\\\\n",
       "\\hline\n",
       "\t accuracy & multiclass & 0.48648649\\\\\n",
       "\t kap      & multiclass & 0.07621551\\\\\n",
       "\\end{tabular}\n"
      ],
      "text/markdown": [
       "\n",
       "A tibble: 2 × 3\n",
       "\n",
       "| .metric &lt;chr&gt; | .estimator &lt;chr&gt; | .estimate &lt;dbl&gt; |\n",
       "|---|---|---|\n",
       "| accuracy | multiclass | 0.48648649 |\n",
       "| kap      | multiclass | 0.07621551 |\n",
       "\n"
      ],
      "text/plain": [
       "  .metric  .estimator .estimate \n",
       "1 accuracy multiclass 0.48648649\n",
       "2 kap      multiclass 0.07621551"
      ]
     },
     "metadata": {},
     "output_type": "display_data"
    },
    {
     "data": {
      "text/plain": [
       "          Truth\n",
       "Prediction  0  1  2  3\n",
       "         0 29  7 16  4\n",
       "         1  2  1  0  0\n",
       "         2  6  2  6  1\n",
       "         3  0  0  0  0"
      ]
     },
     "metadata": {},
     "output_type": "display_data"
    }
   ],
   "source": [
    "knn_spec_2 <- nearest_neighbor(weight_func = \"rectangular\", neighbors = 9) %>%\n",
    "set_engine(\"kknn\") %>%\n",
    "set_mode(\"classification\")\n",
    "\n",
    "heart_fit_2 <- workflow() %>%\n",
    "add_model(knn_spec_2) %>%\n",
    "add_recipe(heart_recipe) %>%\n",
    "fit(heart_training)\n",
    "\n",
    "heart_predict <- predict(heart_fit_2, heart_testing) %>%\n",
    "bind_cols(heart_testing)\n",
    "\n",
    "heart_metrics <- metrics(heart_predict, truth = cp, estimate = .pred_class)\n",
    "\n",
    "heart_conf_mat <- heart_predict %>%\n",
    "conf_mat(truth = cp, estimate = .pred_class)\n",
    "\n",
    "heart_metrics\n",
    "\n",
    "heart_conf_mat"
   ]
  },
  {
   "cell_type": "code",
   "execution_count": null,
   "metadata": {},
   "outputs": [],
   "source": []
  }
 ],
 "metadata": {
  "kernelspec": {
   "display_name": "R",
   "language": "R",
   "name": "ir"
  },
  "language_info": {
   "codemirror_mode": "r",
   "file_extension": ".r",
   "mimetype": "text/x-r-source",
   "name": "R",
   "pygments_lexer": "r",
   "version": "4.0.0"
  }
 },
 "nbformat": 4,
 "nbformat_minor": 4
}
